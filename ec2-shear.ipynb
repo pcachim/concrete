{
 "cells": [
  {
   "cell_type": "code",
   "execution_count": 3,
   "metadata": {
    "tags": []
   },
   "outputs": [],
   "source": [
    "%matplotlib inline\n",
    "import math\n",
    "import ipywidgets as widgets\n",
    "from ipywidgets import HBox, VBox\n",
    "from ipywidgets import interact\n",
    "import numpy as np\n",
    "import matplotlib.pyplot as plt\n",
    "from IPython.display import display\n"
   ]
  },
  {
   "cell_type": "code",
   "execution_count": 4,
   "metadata": {},
   "outputs": [
    {
     "output_type": "error",
     "ename": "NameError",
     "evalue": "name 'med' is not defined",
     "traceback": [
      "\u001b[0;31m---------------------------------------------------------------------------\u001b[0m",
      "\u001b[0;31mNameError\u001b[0m                                 Traceback (most recent call last)",
      "\u001b[0;32m<ipython-input-4-fab23fc9153e>\u001b[0m in \u001b[0;36m<module>\u001b[0;34m\u001b[0m\n\u001b[1;32m     15\u001b[0m )\n\u001b[1;32m     16\u001b[0m \u001b[0mwved\u001b[0m \u001b[0;34m=\u001b[0m \u001b[0mwidgets\u001b[0m\u001b[0;34m.\u001b[0m\u001b[0mFloatSlider\u001b[0m\u001b[0;34m(\u001b[0m\u001b[0mvalue\u001b[0m\u001b[0;34m=\u001b[0m\u001b[0;36m100\u001b[0m\u001b[0;34m,\u001b[0m\u001b[0mmin\u001b[0m\u001b[0;34m=\u001b[0m\u001b[0;36m1\u001b[0m\u001b[0;34m,\u001b[0m\u001b[0mmax\u001b[0m\u001b[0;34m=\u001b[0m\u001b[0;36m1000\u001b[0m\u001b[0;34m,\u001b[0m\u001b[0mstep\u001b[0m\u001b[0;34m=\u001b[0m\u001b[0;36m1\u001b[0m\u001b[0;34m,\u001b[0m\u001b[0mdescription\u001b[0m\u001b[0;34m=\u001b[0m\u001b[0;34m'Ved (kN):'\u001b[0m\u001b[0;34m,\u001b[0m\u001b[0mreadout_format\u001b[0m\u001b[0;34m=\u001b[0m\u001b[0;34m'.0f'\u001b[0m\u001b[0;34m)\u001b[0m\u001b[0;34m\u001b[0m\u001b[0;34m\u001b[0m\u001b[0m\n\u001b[0;32m---> 17\u001b[0;31m \u001b[0mtab1\u001b[0m \u001b[0;34m=\u001b[0m \u001b[0mVBox\u001b[0m\u001b[0;34m(\u001b[0m\u001b[0mchildren\u001b[0m\u001b[0;34m=\u001b[0m\u001b[0;34m[\u001b[0m\u001b[0mb\u001b[0m\u001b[0;34m,\u001b[0m\u001b[0md\u001b[0m\u001b[0;34m,\u001b[0m\u001b[0mmed\u001b[0m\u001b[0;34m,\u001b[0m\u001b[0mfck2\u001b[0m\u001b[0;34m,\u001b[0m\u001b[0mfyk2\u001b[0m\u001b[0;34m]\u001b[0m\u001b[0;34m)\u001b[0m\u001b[0;34m\u001b[0m\u001b[0;34m\u001b[0m\u001b[0m\n\u001b[0m",
      "\u001b[0;31mNameError\u001b[0m: name 'med' is not defined"
     ]
    }
   ],
   "source": [
    "b = widgets.FloatSlider(value=0.3,min=0.15,max=0.6,step=0.025,description='bw (m):',readout_format='.3f')\n",
    "d = widgets.FloatSlider(value=0.5,min=0.20,max=1.0,step=0.025,description='d (m):',readout_format='.3f')\n",
    "wcott = widgets.FloatSlider(value=2.5,min=1.0,max=2.5,step=0.1,description='cot(theta):')\n",
    "fck = widgets.FloatSlider(value=20,min=20,max=50,step=5,description='fck (MPa):')\n",
    "fck2 = widgets.Dropdown(\n",
    "    options=[('C20/25', 20.0), ('C25/30', 25.0), ('C30/37', 30.0), ('C35/45', 35.0), ('C40/50', 40.0), ('C45/55', 45.0), ('C50/60', 50.0)],\n",
    "    value=20,\n",
    "    description='Concrete:',\n",
    ")\n",
    "fyk = widgets.FloatSlider(value=400,min=400,max=500,step=100,description='fyk (MPa):')\n",
    "fyk2 = widgets.Dropdown(\n",
    "    options=[('A400', 400.0), ('A500', 500.0)],\n",
    "    value=400,\n",
    "    description='Aço:',\n",
    ")\n",
    "wved = widgets.FloatSlider(value=100,min=1,max=1000,step=1,description='Ved (kN):',readout_format='.0f')\n",
    "tab1 = VBox(children=[b,d,med,fck2,fyk2])"
   ]
  },
  {
   "cell_type": "code",
   "execution_count": 7,
   "metadata": {},
   "outputs": [
    {
     "output_type": "error",
     "ename": "SyntaxError",
     "evalue": "invalid syntax (<ipython-input-7-01f6ea5af775>, line 10)",
     "traceback": [
      "\u001b[0;36m  File \u001b[0;32m\"<ipython-input-7-01f6ea5af775>\"\u001b[0;36m, line \u001b[0;32m10\u001b[0m\n\u001b[0;31m    z = 0.9 *\u001b[0m\n\u001b[0m              ^\u001b[0m\n\u001b[0;31mSyntaxError\u001b[0m\u001b[0;31m:\u001b[0m invalid syntax\n"
     ]
    }
   ],
   "source": [
    "def shear_strengh(bw: float, d: float, fck: float, g_c: float, fyk: float, g_s: float, cott: float, asw_s: float, alpha: float) -> float:\n",
    "    z = 0.9 * d\n",
    "    vrd_s = asw_s * z * fyk / g_s * cott * 1000.0\n",
    "    niu = 0.6*(1.0-fck/250)\n",
    "    vrd_max = bw * z * niu * fck / g_c * 100.0 / (cott + 1.0/cott)\n",
    "    return max(vrd_s, vrd_max)\n",
    "\n",
    "\n",
    "def shear_design(bw: float, d: float, fck: float, g_c: float, fyk: float, g_s: float, cott: float, ved: float, alpha: float) -> float:\n",
    "    z = 0.9 * d\n",
    "    niu = 0.6*(1.0-fck/250)\n",
    "    vrd_max = bw * z * niu * fck / g_c * 100.0 / (cott + 1.0/cott)\n",
    "\n",
    "    return ved / z / fyk * g_s / cott / 1000.0 if vrd_max >= ved else math.nan\n"
   ]
  },
  {
   "cell_type": "code",
   "execution_count": 6,
   "metadata": {},
   "outputs": [
    {
     "output_type": "display_data",
     "data": {
      "text/plain": "interactive(children=(FloatSlider(value=0.3, description='bw (m):', max=0.6, min=0.15, readout_format='.3f', s…",
      "application/vnd.jupyter.widget-view+json": {
       "version_major": 2,
       "version_minor": 0,
       "model_id": "54d1ba8fedc2486d8344950d1f6872df"
      }
     },
     "metadata": {}
    }
   ],
   "source": [
    "@interact(b=b, d=d, ved=wved, fck=fck2, fyk=fyk2)\n",
    "def vrd(b=0.3, d=0.5, med=100.0, fck=20.0, fyk=400.0):\n",
    "    fcd = fck/1.5\n",
    "    fyd = fyk/1.15\n",
    "    cott = 2.5\n",
    "    mmed = ved\n",
    "    bb = b\n",
    "    dd = d\n",
    "    niu = 0.6*(1-fck/250.0)\n",
    "    vrdmax = niu * b * fcd * 0.9 * d / (cott + 1.0/coott)\n",
    "    try:\n",
    "        omega = 1.0-math.sqrt(1-2*miu)\n",
    "    except:\n",
    "        omega = math.nan\n",
    "    alpha = 1.25*omega\n",
    "    ast = omega*b*d*fcd/fyd * 10000.0\n",
    "    epss = (1.0-alpha)*3.5/alpha\n",
    "    rho = omega*fcd/fyd*100.0\n",
    "    print(\"miu={:.3f} omega={:.3f} x/d={:.3f} eps-s={:.3f} As={:.2f} cm2 rho(%)={:.2f}\".format(miu, round(omega,3), alpha, epss, ast, rho))"
   ]
  },
  {
   "cell_type": "code",
   "execution_count": null,
   "metadata": {},
   "outputs": [],
   "source": []
  },
  {
   "cell_type": "markdown",
   "metadata": {},
   "source": [
    "## Vigas"
   ]
  },
  {
   "cell_type": "code",
   "execution_count": null,
   "metadata": {},
   "outputs": [],
   "source": []
  }
 ],
 "metadata": {
  "kernelspec": {
   "display_name": "Python 3",
   "language": "python",
   "name": "python3"
  },
  "language_info": {
   "codemirror_mode": {
    "name": "ipython",
    "version": 3
   },
   "file_extension": ".py",
   "mimetype": "text/x-python",
   "name": "python",
   "nbconvert_exporter": "python",
   "pygments_lexer": "ipython3",
   "version": "3.9.2"
  },
  "latex_envs": {
   "LaTeX_envs_menu_present": true,
   "autoclose": false,
   "autocomplete": true,
   "bibliofile": "biblio.bib",
   "cite_by": "apalike",
   "current_citInitial": 1,
   "eqLabelWithNumbers": true,
   "eqNumInitial": 1,
   "hotkeys": {
    "equation": "Ctrl-E",
    "itemize": "Ctrl-I"
   },
   "labels_anchors": false,
   "latex_user_defs": false,
   "report_style_numbering": false,
   "user_envs_cfg": false
  }
 },
 "nbformat": 4,
 "nbformat_minor": 4
}