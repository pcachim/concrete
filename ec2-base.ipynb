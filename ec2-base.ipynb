{
 "metadata": {
  "language_info": {
   "codemirror_mode": {
    "name": "ipython",
    "version": 3
   },
   "file_extension": ".py",
   "mimetype": "text/x-python",
   "name": "python",
   "nbconvert_exporter": "python",
   "pygments_lexer": "ipython3",
   "version": "3.9.2-final"
  },
  "orig_nbformat": 2,
  "kernelspec": {
   "name": "python3",
   "display_name": "Python 3",
   "language": "python"
  }
 },
 "nbformat": 4,
 "nbformat_minor": 2,
 "cells": [
  {
   "source": [
    "# Structural Concrete according to Eurocode 2\n",
    "\n",
    "This project has a set of tools to deal with Eurocode 2 design rules\n",
    "\n",
    "## Material properties\n",
    "\n",
    "Concrete\n",
    "\n",
    "- [Basic properties](./ec2-material.ipynb)\n",
    "- [Creep](./ec2-fluencia.ipynb)\n",
    "- Shrinkage\n",
    "\n",
    "Steel\n",
    "\n",
    "- Reinforcing steel\n",
    "- Prestressing steel\n",
    "\n",
    "## JSON database file\n",
    "\n",
    "A [database](./eurocodes.json) containing information regarding the properties of Eurocode materials, loads and sections."
   ],
   "cell_type": "markdown",
   "metadata": {}
  },
  {
   "cell_type": "code",
   "execution_count": 34,
   "metadata": {},
   "outputs": [],
   "source": [
    "import math\n",
    "import json\n",
    "import pandas as pd"
   ]
  },
  {
   "cell_type": "code",
   "execution_count": 35,
   "metadata": {},
   "outputs": [],
   "source": [
    "f = open(\"eurocodes.json\", \"r\")\n",
    "database = json.loads(f.read())\n",
    "concs = database[\"Eurocodes\"][\"Materials\"][\"Concrete\"]\n",
    "reinfs = database[\"Eurocodes\"][\"Materials\"][\"Reinforcement\"]\n",
    "prestr = database[\"Eurocodes\"][\"Materials\"][\"Prestress\"]"
   ]
  },
  {
   "cell_type": "code",
   "execution_count": 36,
   "metadata": {},
   "outputs": [
    {
     "output_type": "execute_result",
     "data": {
      "text/plain": [
       "         C20/25   C25/30   C30/37   C35/45   C40/50   C45/45   C50/55  \\\n",
       "fck        20.0     25.0     30.0     35.0     40.0     45.0     50.0   \n",
       "fcm        28.0     33.0     38.0     43.0     48.0     53.0     58.0   \n",
       "fctm        2.2      2.6      2.9      3.2      3.5      3.8      4.1   \n",
       "fctk05      1.5      1.8      2.0      2.2      2.5      2.7      2.9   \n",
       "Ecm     30000.0  31000.0  33000.0  34000.0  35000.0  36000.0  37000.0   \n",
       "epsc2       2.0      2.0      2.0      2.0      2.0      2.0      2.0   \n",
       "epscu2      3.5      3.5      3.5      3.5      3.5      3.5      3.5   \n",
       "n           2.0      2.0      2.0      2.0      2.0      2.0      2.0   \n",
       "\n",
       "          C55/67   C60/75    C70/85  \n",
       "fck        55.00     60.0     70.00  \n",
       "fcm        63.00     68.0     78.00  \n",
       "fctm        4.20      4.4      4.60  \n",
       "fctk05      3.00      3.1      3.20  \n",
       "Ecm     38000.00  39000.0  41000.00  \n",
       "epsc2       2.20      2.3      2.40  \n",
       "epscu2      3.10      2.9      2.70  \n",
       "n           1.75      1.6      1.45  "
      ],
      "text/html": "<div>\n<style scoped>\n    .dataframe tbody tr th:only-of-type {\n        vertical-align: middle;\n    }\n\n    .dataframe tbody tr th {\n        vertical-align: top;\n    }\n\n    .dataframe thead th {\n        text-align: right;\n    }\n</style>\n<table border=\"1\" class=\"dataframe\">\n  <thead>\n    <tr style=\"text-align: right;\">\n      <th></th>\n      <th>C20/25</th>\n      <th>C25/30</th>\n      <th>C30/37</th>\n      <th>C35/45</th>\n      <th>C40/50</th>\n      <th>C45/45</th>\n      <th>C50/55</th>\n      <th>C55/67</th>\n      <th>C60/75</th>\n      <th>C70/85</th>\n    </tr>\n  </thead>\n  <tbody>\n    <tr>\n      <th>fck</th>\n      <td>20.0</td>\n      <td>25.0</td>\n      <td>30.0</td>\n      <td>35.0</td>\n      <td>40.0</td>\n      <td>45.0</td>\n      <td>50.0</td>\n      <td>55.00</td>\n      <td>60.0</td>\n      <td>70.00</td>\n    </tr>\n    <tr>\n      <th>fcm</th>\n      <td>28.0</td>\n      <td>33.0</td>\n      <td>38.0</td>\n      <td>43.0</td>\n      <td>48.0</td>\n      <td>53.0</td>\n      <td>58.0</td>\n      <td>63.00</td>\n      <td>68.0</td>\n      <td>78.00</td>\n    </tr>\n    <tr>\n      <th>fctm</th>\n      <td>2.2</td>\n      <td>2.6</td>\n      <td>2.9</td>\n      <td>3.2</td>\n      <td>3.5</td>\n      <td>3.8</td>\n      <td>4.1</td>\n      <td>4.20</td>\n      <td>4.4</td>\n      <td>4.60</td>\n    </tr>\n    <tr>\n      <th>fctk05</th>\n      <td>1.5</td>\n      <td>1.8</td>\n      <td>2.0</td>\n      <td>2.2</td>\n      <td>2.5</td>\n      <td>2.7</td>\n      <td>2.9</td>\n      <td>3.00</td>\n      <td>3.1</td>\n      <td>3.20</td>\n    </tr>\n    <tr>\n      <th>Ecm</th>\n      <td>30000.0</td>\n      <td>31000.0</td>\n      <td>33000.0</td>\n      <td>34000.0</td>\n      <td>35000.0</td>\n      <td>36000.0</td>\n      <td>37000.0</td>\n      <td>38000.00</td>\n      <td>39000.0</td>\n      <td>41000.00</td>\n    </tr>\n    <tr>\n      <th>epsc2</th>\n      <td>2.0</td>\n      <td>2.0</td>\n      <td>2.0</td>\n      <td>2.0</td>\n      <td>2.0</td>\n      <td>2.0</td>\n      <td>2.0</td>\n      <td>2.20</td>\n      <td>2.3</td>\n      <td>2.40</td>\n    </tr>\n    <tr>\n      <th>epscu2</th>\n      <td>3.5</td>\n      <td>3.5</td>\n      <td>3.5</td>\n      <td>3.5</td>\n      <td>3.5</td>\n      <td>3.5</td>\n      <td>3.5</td>\n      <td>3.10</td>\n      <td>2.9</td>\n      <td>2.70</td>\n    </tr>\n    <tr>\n      <th>n</th>\n      <td>2.0</td>\n      <td>2.0</td>\n      <td>2.0</td>\n      <td>2.0</td>\n      <td>2.0</td>\n      <td>2.0</td>\n      <td>2.0</td>\n      <td>1.75</td>\n      <td>1.6</td>\n      <td>1.45</td>\n    </tr>\n  </tbody>\n</table>\n</div>"
     },
     "metadata": {},
     "execution_count": 36
    }
   ],
   "source": [
    "ec2db = pd.DataFrame.from_dict(concs[\"Classes\"])\n",
    "ec2db"
   ]
  },
  {
   "cell_type": "code",
   "execution_count": 37,
   "metadata": {},
   "outputs": [
    {
     "output_type": "execute_result",
     "data": {
      "text/plain": [
       "         A400      A500      S400      S500\n",
       "fyk     400.0     500.0     400.0     500.0\n",
       "Es   200000.0  200000.0  200000.0  200000.0"
      ],
      "text/html": "<div>\n<style scoped>\n    .dataframe tbody tr th:only-of-type {\n        vertical-align: middle;\n    }\n\n    .dataframe tbody tr th {\n        vertical-align: top;\n    }\n\n    .dataframe thead th {\n        text-align: right;\n    }\n</style>\n<table border=\"1\" class=\"dataframe\">\n  <thead>\n    <tr style=\"text-align: right;\">\n      <th></th>\n      <th>A400</th>\n      <th>A500</th>\n      <th>S400</th>\n      <th>S500</th>\n    </tr>\n  </thead>\n  <tbody>\n    <tr>\n      <th>fyk</th>\n      <td>400.0</td>\n      <td>500.0</td>\n      <td>400.0</td>\n      <td>500.0</td>\n    </tr>\n    <tr>\n      <th>Es</th>\n      <td>200000.0</td>\n      <td>200000.0</td>\n      <td>200000.0</td>\n      <td>200000.0</td>\n    </tr>\n  </tbody>\n</table>\n</div>"
     },
     "metadata": {},
     "execution_count": 37
    }
   ],
   "source": [
    "ec2db = pd.DataFrame.from_dict(reinfs[\"Classes\"])\n",
    "ec2db"
   ]
  },
  {
   "source": [
    "b = 0.3\n",
    "h = 1.0\n",
    "A = b*h\n",
    "I = b*h**3/12\n",
    "print (A, I)"
   ],
   "cell_type": "code",
   "metadata": {},
   "execution_count": 38,
   "outputs": [
    {
     "output_type": "stream",
     "name": "stdout",
     "text": [
      "0.3 0.024999999999999998\n"
     ]
    }
   ]
  },
  {
   "source": [
    "## Dados geométricos"
   ],
   "cell_type": "markdown",
   "metadata": {}
  },
  {
   "cell_type": "code",
   "execution_count": 39,
   "metadata": {},
   "outputs": [],
   "source": [
    "A = 0.3\n",
    "I = 0.025\n",
    "Zg  = 0.5\n",
    "H = 1.0\n",
    "ap = 0.15\n",
    "Wi = I/Zg\n",
    "Ws = I/(H-Zg)"
   ]
  },
  {
   "cell_type": "code",
   "execution_count": 40,
   "metadata": {},
   "outputs": [],
   "source": [
    "conc_class_0 = \"C25/30\"\n",
    "conc_class_inf = \"C35/45\""
   ]
  },
  {
   "source": [
    "## Dados ações"
   ],
   "cell_type": "markdown",
   "metadata": {}
  },
  {
   "cell_type": "code",
   "execution_count": 41,
   "metadata": {},
   "outputs": [],
   "source": [
    "Med = 500\n",
    "Ned = 0 # Tração ≥ 0, compressão ≤ 0\n",
    "Po = 1700 # Sempre positivo"
   ]
  },
  {
   "cell_type": "code",
   "execution_count": 42,
   "metadata": {},
   "outputs": [],
   "source": [
    "Med_inf = 1000\n",
    "Ned_inf = 0\n",
    "P_inf = 1800"
   ]
  },
  {
   "source": [
    "## Dados pré-esforço"
   ],
   "cell_type": "markdown",
   "metadata": {}
  },
  {
   "cell_type": "code",
   "execution_count": 43,
   "metadata": {},
   "outputs": [],
   "source": [
    "conc = concs[\"Classes\"][conc_class_0]\n",
    "conc_inf = concs[\"Classes\"][conc_class_inf]\n",
    "ep = Zg-ap"
   ]
  },
  {
   "source": [
    "## Resultados"
   ],
   "cell_type": "markdown",
   "metadata": {}
  },
  {
   "cell_type": "code",
   "execution_count": 44,
   "metadata": {},
   "outputs": [
    {
     "output_type": "stream",
     "name": "stdout",
     "text": [
      "-7566.666666666668 -3766.666666666667\n"
     ]
    }
   ],
   "source": [
    "Sig_inf = -Po/A+Ned/A-Po*ep/Wi+Med/Wi\n",
    "Sig_sup = -Po/A+Ned/A+Po*ep/Ws-Med/Ws\n",
    "print (Sig_inf, Sig_sup)"
   ]
  },
  {
   "cell_type": "code",
   "execution_count": 45,
   "metadata": {},
   "outputs": [
    {
     "output_type": "stream",
     "name": "stdout",
     "text": [
      "25.0 2.6 31000.0\nOK OK\n"
     ]
    }
   ],
   "source": [
    "fck = conc[\"fck\"]\n",
    "fctm = conc[\"fctm\"]\n",
    "Ecm = conc[\"Ecm\"]\n",
    "print (fck, fctm, Ecm)\n",
    "s1 = \"OK\" if Sig_sup <= 1000.0*fctm else \"KO\"\n",
    "s2 = \"OK\" if Sig_inf >= -600.0*fck else \"KO\"\n",
    "print (s1, s2)"
   ]
  },
  {
   "cell_type": "code",
   "execution_count": 46,
   "metadata": {},
   "outputs": [
    {
     "output_type": "stream",
     "name": "stdout",
     "text": [
      "1400.0 -13400.0\n"
     ]
    }
   ],
   "source": [
    "Sig_inf_inf = -P_inf/A+Ned_inf/A-P_inf*ep/Wi+Med_inf/Wi\n",
    "Sig_sup_inf = -P_inf/A+Ned_inf/A+P_inf*ep/Ws-Med_inf/Ws\n",
    "print (Sig_inf_inf, Sig_sup_inf)"
   ]
  },
  {
   "cell_type": "code",
   "execution_count": 47,
   "metadata": {},
   "outputs": [
    {
     "output_type": "stream",
     "name": "stdout",
     "text": [
      "35.0 3.2 34000.0\nOK OK\n"
     ]
    }
   ],
   "source": [
    "fck = conc_inf[\"fck\"]\n",
    "fctm = conc_inf[\"fctm\"]\n",
    "Ecm = conc_inf[\"Ecm\"]\n",
    "print (fck, fctm, Ecm)\n",
    "s1 = \"OK\" if Sig_inf_inf <= 1000.0*fctm else \"KO\"\n",
    "s2 = \"OK\" if Sig_sup_inf >= -600.0*fck else \"KO\"\n",
    "print (s1, s2)"
   ]
  },
  {
   "cell_type": "code",
   "execution_count": null,
   "metadata": {},
   "outputs": [],
   "source": []
  }
 ]
}