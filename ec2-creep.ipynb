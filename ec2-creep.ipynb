{
 "cells": [
  {
   "cell_type": "markdown",
   "id": "efficient-support",
   "metadata": {},
   "source": [
    "# EC2 - creep"
   ]
  },
  {
   "cell_type": "code",
   "execution_count": 1,
   "id": "stone-glossary",
   "metadata": {
    "hide_input": false
   },
   "outputs": [],
   "source": [
    "%matplotlib inline\n",
    "import math as m\n",
    "import pandas as pd\n",
    "import numpy as np\n",
    "import matplotlib\n",
    "import matplotlib.pyplot as plt\n",
    "import ipywidgets as widgets\n",
    "from ipywidgets import HBox, VBox\n",
    "from ipywidgets import interact"
   ]
  },
  {
   "cell_type": "code",
   "execution_count": 2,
   "id": "checked-tucson",
   "metadata": {},
   "outputs": [],
   "source": [
    "h0 = widgets.FloatSlider(value=200,min=100,max=1000,step=0.025,description='h0 (mm):',readout_format='.0f')\n",
    "t = widgets.FloatLogSlider(value=100000,min=0,max=6,step=0.025,description='t (d):',readout_format='.0f')\n",
    "t0 = widgets.FloatSlider(value=10,min=3,max=60,step=1,description='t0 (d):',readout_format='.0f')\n",
    "rh = widgets.FloatSlider(value=80,min=0,max=100,step=1,description='RH (%):',readout_format='.0f')\n",
    "fck = widgets.FloatSlider(value=20,min=20,max=50,step=5,description='fck (MPa):',readout_format='.0f')\n",
    "fck2 = widgets.Dropdown(\n",
    "    options=[('C20/25', 20.0), ('C25/30', 25.0), ('C30/37', 30.0), ('C35/45', 35.0), ('C40/50', 40.0), ('C45/55', 45.0), ('C50/60', 50.0)],\n",
    "    value=20,\n",
    "    description='Concrete:',\n",
    ")\n",
    "cem = widgets.Dropdown(\n",
    "    options=[('Type R', 1.0), ('Type N', 0.0), ('Type S', -1.0)],\n",
    "    value=0.0,\n",
    "    description='Cement:'\n",
    ")\n",
    "#fyk2 = widgets.Dropdown(\n",
    "#    options=[('A400', 400.0), ('A500', 500.0)],\n",
    "#    value=400,\n",
    "#    description='Steel:',\n",
    "#)\n",
    "#med = widgets.FloatSlider(value=100,min=1,max=1000,step=1,description='Med (kNm):',#readout_format='.0f')\n",
    "#tab1 = VBox(children=[t,h0,t0,rh,fck])"
   ]
  },
  {
   "cell_type": "code",
   "execution_count": 3,
   "id": "tracked-wound",
   "metadata": {
    "hide_input": true
   },
   "outputs": [
    {
     "data": {
      "application/vnd.jupyter.widget-view+json": {
       "model_id": "e01d0d06977a4066bfbdcf34062a8ade",
       "version_major": 2,
       "version_minor": 0
      },
      "text/plain": [
       "interactive(children=(FloatLogSlider(value=100000.0, description='t (d):', max=6.0, readout_format='.0f', step…"
      ]
     },
     "metadata": {},
     "output_type": "display_data"
    }
   ],
   "source": [
    "def creep_coef(t=28, h0=100,rh=65, t0=10, fck=20.0, cem=0.0):\n",
    "    fcm = fck+8\n",
    "    alpha1 = (35/fcm)**0.7\n",
    "    alpha2 = (35/fcm)**0.2\n",
    "    alpha3 = min(1.0, (35/fcm)**0.5)\n",
    "    tt0 = t0*((1.0+9.0/(2.0+t0**1.2))**cem)\n",
    "    phi_RH = (1.0-rh/100)/(0.1*(h0**0.33333333))\n",
    "    phi_RH = 1.0+phi_RH if fcm <= 35 else (1.0+phi_RH*alpha1)*alpha2\n",
    "    beta_fcm = 16.8/m.sqrt(fcm)\n",
    "    beta_t0 = 1.0/(0.1+tt0**0.2)\n",
    "    phi_0 = beta_fcm*beta_t0*phi_RH\n",
    "\n",
    "    try:        \n",
    "        betah = min(1500*alpha3, 1.5*(1.0+m.pow(0.012*rh,18))*h0+250*alpha3)\n",
    "        beta_cc = m.pow((t-t0)/(betah+t-t0), 0.3)\n",
    "        phi = beta_cc*phi_0    \n",
    "    except:\n",
    "        beta_cc = m.nan\n",
    "        phi = m.nan\n",
    "\n",
    "    return phi\n",
    "    \n",
    "@interact(h0=h0, t=t, t0=t0, rh=rh, fck=fck, cem=cem)\n",
    "def creepcoef(t=28, h0=100,rh=65, t0=10, fck=20.0, cem=0.0):\n",
    "    creep = creep_coef(t, h0,rh, t0, fck, cem)\n",
    "    #print(\"fhi={:.3f} betha_cc={:.3f} fhi_0={:.3f}\".format(phi, beta_cc, phi_0))\n",
    "    print(\"fhi={:.3f}\".format(creep))"
   ]
  },
  {
   "cell_type": "code",
   "execution_count": 4,
   "id": "elder-synthetic",
   "metadata": {},
   "outputs": [
    {
     "name": "stdout",
     "output_type": "stream",
     "text": [
      "fhi=2.795\n"
     ]
    }
   ],
   "source": [
    "_t = 100000\n",
    "_h0 = 150\n",
    "_rh = 80\n",
    "_t0 = 10\n",
    "_fck = 20\n",
    "_cem = -1\n",
    "creepcoef(_t,_h0,_rh,_t0,_fck,_cem)"
   ]
  },
  {
   "cell_type": "code",
   "execution_count": 5,
   "id": "known-hypothesis",
   "metadata": {},
   "outputs": [
    {
     "data": {
      "text/plain": [
       "[<matplotlib.lines.Line2D at 0x7fd8758f9760>]"
      ]
     },
     "execution_count": 5,
     "metadata": {},
     "output_type": "execute_result"
    },
    {
     "data": {
      "image/png": "[encoded data removed]",
      "text/plain": [
       "<Figure size 432x288 with 1 Axes>"
      ]
     },
     "metadata": {
      "needs_background": "light"
     },
     "output_type": "display_data"
    }
   ],
   "source": [
    "tt = np.logspace(1.2, 6)\n",
    "vfunc = np.vectorize(creep_coef)\n",
    "creep = vfunc(tt, _h0,_rh,_t0,_fck,_cem)\n",
    "plt.xscale(\"log\")\n",
    "plt.xlabel(\"Time (days)\")\n",
    "plt.ylabel(\"Creep coefficient\")\n",
    "plt.plot(tt, creep)"
   ]
  },
  {
   "cell_type": "code",
   "execution_count": null,
   "id": "mexican-roads",
   "metadata": {},
   "outputs": [],
   "source": []
  }
 ],
 "metadata": {
  "kernelspec": {
   "display_name": "Python 3",
   "language": "python",
   "name": "python3"
  },
  "language_info": {
   "codemirror_mode": {
    "name": "ipython",
    "version": 3
   },
   "file_extension": ".py",
   "mimetype": "text/x-python",
   "name": "python",
   "nbconvert_exporter": "python",
   "pygments_lexer": "ipython3",
   "version": "3.9.2"
  },
  "latex_envs": {
   "LaTeX_envs_menu_present": true,
   "autoclose": false,
   "autocomplete": true,
   "bibliofile": "biblio.bib",
   "cite_by": "apalike",
   "current_citInitial": 1,
   "eqLabelWithNumbers": true,
   "eqNumInitial": 1,
   "hotkeys": {
    "equation": "Ctrl-E",
    "itemize": "Ctrl-I"
   },
   "labels_anchors": false,
   "latex_user_defs": false,
   "report_style_numbering": false,
   "user_envs_cfg": false
  }
 },
 "nbformat": 4,
 "nbformat_minor": 5
}
