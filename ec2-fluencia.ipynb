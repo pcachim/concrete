{
 "cells": [
  {
   "source": [
    "# EC2 - creep"
   ],
   "cell_type": "markdown",
   "metadata": {}
  },
  {
   "cell_type": "code",
   "execution_count": 1,
   "id": "stone-glossary",
   "metadata": {},
   "outputs": [],
   "source": [
    "%matplotlib inline\n",
    "import math as m\n",
    "import pandas as pd\n",
    "import numpy as np\n",
    "import matplotlib\n",
    "import matplotlib.pyplot as plt\n",
    "import ipywidgets as widgets\n",
    "from ipywidgets import HBox, VBox\n",
    "from ipywidgets import interact"
   ]
  },
  {
   "cell_type": "code",
   "execution_count": 2,
   "metadata": {},
   "outputs": [],
   "source": [
    "h0 = widgets.FloatSlider(value=200,min=100,max=1000,step=0.025,description='h0 (mm):',readout_format='.0f')\n",
    "t = widgets.FloatLogSlider(value=100000,min=0,max=6,step=0.025,description='t (d):',readout_format='.0f')\n",
    "t0 = widgets.FloatSlider(value=10,min=3,max=60,step=1,description='t0 (d):',readout_format='.0f')\n",
    "rh = widgets.FloatSlider(value=80,min=0,max=100,step=1,description='RH (%):',readout_format='.0f')\n",
    "fck = widgets.FloatSlider(value=20,min=20,max=50,step=5,description='fck (MPa):',readout_format='.0f')\n",
    "fck2 = widgets.Dropdown(\n",
    "    options=[('C20/25', 20.0), ('C25/30', 25.0), ('C30/37', 30.0), ('C35/45', 35.0), ('C40/50', 40.0), ('C45/55', 45.0), ('C50/60', 50.0)],\n",
    "    value=20,\n",
    "    description='Concrete:',\n",
    ")\n",
    "#fyk2 = widgets.Dropdown(\n",
    "#    options=[('A400', 400.0), ('A500', 500.0)],\n",
    "#    value=400,\n",
    "#    description='Steel:',\n",
    "#)\n",
    "#cem = widgets.Dropdown(\n",
    "#    options=[('Type R', 0.2), ('Type N', 0.25), ('Type S', 0.38)],\n",
    "#    value=0.2,\n",
    "#    description='Cement:'\n",
    "#)\n",
    "#med = widgets.FloatSlider(value=100,min=1,max=1000,step=1,description='Med (kNm):',#readout_format='.0f')\n",
    "#tab1 = VBox(children=[t,h0,t0,rh,fck])"
   ]
  },
  {
   "cell_type": "code",
   "execution_count": 3,
   "metadata": {},
   "outputs": [
    {
     "output_type": "display_data",
     "data": {
      "text/plain": "interactive(children=(FloatLogSlider(value=100000.0, description='t (d):', max=6.0, readout_format='.0f', step…",
      "application/vnd.jupyter.widget-view+json": {
       "version_major": 2,
       "version_minor": 0,
       "model_id": "7f4f1acd949742868f481242c5449360"
      }
     },
     "metadata": {}
    }
   ],
   "source": [
    "@interact(h0=h0, t=t, t0=t0, rh=rh, fck=fck)\n",
    "def creep_coef(t=28, h0=100,rh=65, t0=10, fck=20.0):\n",
    "    fcm = fck+8\n",
    "    alpha1 = (35/fcm)**0.7\n",
    "    alpha2 = (35/fcm)**0.2\n",
    "    alpha3 = min(1.0, (35/fcm)**0.5)\n",
    "    phi_RH = (1.0-rh/100)/(0.1*(h0**0.33333333))\n",
    "    phi_RH = 1.0+phi_RH if fcm <= 35 else (1.0+phi_RH*alpha1)*alpha2\n",
    "    beta_fcm = 16.8/m.sqrt(fcm)\n",
    "    beta_t0 = 1.0/(0.1+t0**0.2)\n",
    "    phi_0 = beta_fcm*beta_t0*phi_RH\n",
    "\n",
    "    try:        \n",
    "        betah = min(1500*alpha3, 1.5*(1.0+m.pow(0.012*rh,18))*h0+250*alpha3)\n",
    "        beta_cc = m.pow((t-t0)/(betah+t-t0), 0.3)\n",
    "        phi = beta_cc*phi_0    \n",
    "    except:\n",
    "        beta_cc = m.nan\n",
    "        phi = m.nan\n",
    "\n",
    "    print(\"fhi={:.3f} betha_cc={:.3f} fhi_0={:.3f}\".format(phi, beta_cc, phi_0))"
   ]
  },
  {
   "cell_type": "code",
   "execution_count": null,
   "metadata": {},
   "outputs": [],
   "source": []
  }
 ],
 "metadata": {
  "kernelspec": {
   "display_name": "Python 3",
   "language": "python",
   "name": "python3"
  },
  "language_info": {
   "codemirror_mode": {
    "name": "ipython",
    "version": 3
   },
   "file_extension": ".py",
   "mimetype": "text/x-python",
   "name": "python",
   "nbconvert_exporter": "python",
   "pygments_lexer": "ipython3",
   "version": "3.9.2-final"
  },
  "latex_envs": {
   "LaTeX_envs_menu_present": true,
   "autoclose": false,
   "autocomplete": true,
   "bibliofile": "biblio.bib",
   "cite_by": "apalike",
   "current_citInitial": 1,
   "eqLabelWithNumbers": true,
   "eqNumInitial": 1,
   "hotkeys": {
    "equation": "Ctrl-E",
    "itemize": "Ctrl-I"
   },
   "labels_anchors": false,
   "latex_user_defs": false,
   "report_style_numbering": false,
   "user_envs_cfg": false
  }
 },
 "nbformat": 4,
 "nbformat_minor": 5
}